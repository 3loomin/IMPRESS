{
 "cells": [
  {
   "cell_type": "code",
   "execution_count": 2,
   "metadata": {},
   "outputs": [],
   "source": [
    "import numpy as np\n"
   ]
  },
  {
   "cell_type": "code",
   "execution_count": 3,
   "metadata": {},
   "outputs": [],
   "source": [
    "\n",
    "#extracting data from csv files into numpy arrays\n",
    "from numpy import genfromtxt\n",
    "x_train = genfromtxt('train_data.csv', delimiter=',')\n",
    "y_train = genfromtxt('train_labels.csv', delimiter=',')\n",
    "x_test = genfromtxt('test_data.csv', delimiter=',')\n",
    "y_test = genfromtxt('test_labels.csv', delimiter=',')"
   ]
  },
  {
   "cell_type": "code",
   "execution_count": 4,
   "metadata": {},
   "outputs": [
    {
     "data": {
      "text/plain": [
       "((7895, 200), (837, 200), (7895,), (837,))"
      ]
     },
     "execution_count": 4,
     "metadata": {},
     "output_type": "execute_result"
    }
   ],
   "source": [
    "#shape\n",
    "x_train.shape,x_test.shape,y_train.shape,y_test.shape"
   ]
  },
  {
   "cell_type": "code",
   "execution_count": 5,
   "metadata": {},
   "outputs": [
    {
     "name": "stderr",
     "output_type": "stream",
     "text": [
      "Using TensorFlow backend.\n"
     ]
    },
    {
     "data": {
      "text/plain": [
       "((7895, 10), (837, 10))"
      ]
     },
     "execution_count": 5,
     "metadata": {},
     "output_type": "execute_result"
    }
   ],
   "source": [
    "\n",
    "#converting to one hot\n",
    "from keras.utils.np_utils import to_categorical\n",
    "y_train = to_categorical(y_train, num_classes=10)\n",
    "y_test = to_categorical(y_test, num_classes=10)\n",
    "y_train.shape,y_test.shape"
   ]
  },
  {
   "cell_type": "code",
   "execution_count": 6,
   "metadata": {},
   "outputs": [
    {
     "data": {
      "text/plain": [
       "((7895, 40, 5), (837, 40, 5))"
      ]
     },
     "execution_count": 6,
     "metadata": {},
     "output_type": "execute_result"
    }
   ],
   "source": [
    "#reshaping to 2D \n",
    "x_train=np.reshape(x_train,(x_train.shape[0], 40,5))\n",
    "x_test=np.reshape(x_test,(x_test.shape[0], 40,5))\n",
    "x_train.shape,x_test.shape"
   ]
  },
  {
   "cell_type": "code",
   "execution_count": 7,
   "metadata": {},
   "outputs": [],
   "source": [
    "\n",
    "#reshaping to shape required by CNN\n",
    "x_train=np.reshape(x_train,(x_train.shape[0], 40,5,1))\n",
    "x_test=np.reshape(x_test,(x_test.shape[0], 40,5,1))"
   ]
  },
  {
   "cell_type": "code",
   "execution_count": 8,
   "metadata": {},
   "outputs": [
    {
     "data": {
      "text/plain": [
       "((7895, 40, 5, 1), (837, 40, 5, 1))"
      ]
     },
     "execution_count": 8,
     "metadata": {},
     "output_type": "execute_result"
    }
   ],
   "source": [
    "#shapes\n",
    "x_train.shape,x_test.shape"
   ]
  },
  {
   "cell_type": "code",
   "execution_count": 9,
   "metadata": {},
   "outputs": [],
   "source": [
    "\n",
    "from keras import Sequential\n",
    "from keras.layers import Dense,Conv2D,MaxPooling2D,Flatten,Dropout"
   ]
  },
  {
   "cell_type": "code",
   "execution_count": 10,
   "metadata": {},
   "outputs": [],
   "source": [
    "#forming model\n",
    "model=Sequential()\n"
   ]
  },
  {
   "cell_type": "code",
   "execution_count": 11,
   "metadata": {},
   "outputs": [
    {
     "name": "stdout",
     "output_type": "stream",
     "text": [
      "WARNING:tensorflow:From C:\\Users\\tlsck\\Anaconda3\\envs\\study\\lib\\site-packages\\tensorflow_core\\python\\ops\\resource_variable_ops.py:1630: calling BaseResourceVariable.__init__ (from tensorflow.python.ops.resource_variable_ops) with constraint is deprecated and will be removed in a future version.\n",
      "Instructions for updating:\n",
      "If using Keras pass *_constraint arguments to layers.\n",
      "WARNING:tensorflow:From C:\\Users\\tlsck\\Anaconda3\\envs\\study\\lib\\site-packages\\keras\\backend\\tensorflow_backend.py:4070: The name tf.nn.max_pool is deprecated. Please use tf.nn.max_pool2d instead.\n",
      "\n"
     ]
    }
   ],
   "source": [
    "#adding layers and forming the model\n",
    "model.add(Conv2D(64,kernel_size=5,strides=1,padding=\"Same\",activation=\"relu\",input_shape=(40,5,1)))\n",
    "model.add(MaxPooling2D(padding=\"same\"))\n",
    "\n",
    "model.add(Conv2D(128,kernel_size=5,strides=1,padding=\"same\",activation=\"relu\"))\n",
    "model.add(MaxPooling2D(padding=\"same\"))\n",
    "model.add(Dropout(0.3))\n",
    "\n",
    "model.add(Flatten())\n",
    "\n",
    "model.add(Dense(256,activation=\"relu\"))\n",
    "model.add(Dropout(0.3))\n",
    "\n",
    "model.add(Dense(512,activation=\"relu\"))\n",
    "model.add(Dropout(0.3))\n",
    "\n",
    "model.add(Dense(10,activation=\"softmax\"))"
   ]
  },
  {
   "cell_type": "code",
   "execution_count": 12,
   "metadata": {},
   "outputs": [],
   "source": [
    "#compiling\n",
    "model.compile(optimizer=\"adam\",loss=\"categorical_crossentropy\",metrics=[\"accuracy\"])\n"
   ]
  },
  {
   "cell_type": "code",
   "execution_count": 14,
   "metadata": {},
   "outputs": [
    {
     "name": "stdout",
     "output_type": "stream",
     "text": [
      "Train on 7895 samples, validate on 837 samples\n",
      "Epoch 1/100\n",
      "7895/7895 [==============================] - 1s 121us/step - loss: 0.1544 - accuracy: 0.9498 - val_loss: 1.4083 - val_accuracy: 0.7073\n",
      "Epoch 2/100\n",
      "7895/7895 [==============================] - 1s 115us/step - loss: 0.1525 - accuracy: 0.9526 - val_loss: 1.9138 - val_accuracy: 0.6750\n",
      "Epoch 3/100\n",
      "7895/7895 [==============================] - 1s 114us/step - loss: 0.1928 - accuracy: 0.9444 - val_loss: 1.3404 - val_accuracy: 0.7157\n",
      "Epoch 4/100\n",
      "7895/7895 [==============================] - 1s 114us/step - loss: 0.2023 - accuracy: 0.9369 - val_loss: 1.5296 - val_accuracy: 0.6583\n",
      "Epoch 5/100\n",
      "7895/7895 [==============================] - 1s 114us/step - loss: 0.1404 - accuracy: 0.9539 - val_loss: 1.5207 - val_accuracy: 0.6930\n",
      "Epoch 6/100\n",
      "7895/7895 [==============================] - 1s 113us/step - loss: 0.1395 - accuracy: 0.9524 - val_loss: 1.6469 - val_accuracy: 0.6750\n",
      "Epoch 7/100\n",
      "7895/7895 [==============================] - 1s 114us/step - loss: 0.2170 - accuracy: 0.9349 - val_loss: 1.2785 - val_accuracy: 0.7013\n",
      "Epoch 8/100\n",
      "7895/7895 [==============================] - 1s 113us/step - loss: 0.1662 - accuracy: 0.9464 - val_loss: 1.4948 - val_accuracy: 0.6882\n",
      "Epoch 9/100\n",
      "7895/7895 [==============================] - 1s 112us/step - loss: 0.1741 - accuracy: 0.9501 - val_loss: 1.5484 - val_accuracy: 0.6953\n",
      "Epoch 10/100\n",
      "7895/7895 [==============================] - 1s 115us/step - loss: 0.1534 - accuracy: 0.9526 - val_loss: 1.4538 - val_accuracy: 0.6858\n",
      "Epoch 11/100\n",
      "7895/7895 [==============================] - 1s 113us/step - loss: 0.1300 - accuracy: 0.9559 - val_loss: 1.6747 - val_accuracy: 0.7025\n",
      "Epoch 12/100\n",
      "7895/7895 [==============================] - 1s 113us/step - loss: 0.1434 - accuracy: 0.9552 - val_loss: 1.4860 - val_accuracy: 0.6882\n",
      "Epoch 13/100\n",
      "7895/7895 [==============================] - 1s 113us/step - loss: 0.1172 - accuracy: 0.9617 - val_loss: 1.6774 - val_accuracy: 0.6870\n",
      "Epoch 14/100\n",
      "7895/7895 [==============================] - 1s 112us/step - loss: 0.1341 - accuracy: 0.9535 - val_loss: 1.7765 - val_accuracy: 0.6822\n",
      "Epoch 15/100\n",
      "7895/7895 [==============================] - 1s 114us/step - loss: 0.1881 - accuracy: 0.9511 - val_loss: 1.5070 - val_accuracy: 0.7097\n",
      "Epoch 16/100\n",
      "7895/7895 [==============================] - 1s 113us/step - loss: 0.1574 - accuracy: 0.9531 - val_loss: 1.6576 - val_accuracy: 0.6977\n",
      "Epoch 17/100\n",
      "7895/7895 [==============================] - 1s 112us/step - loss: 0.1337 - accuracy: 0.9579 - val_loss: 1.6653 - val_accuracy: 0.7037\n",
      "Epoch 18/100\n",
      "7895/7895 [==============================] - 1s 113us/step - loss: 0.1434 - accuracy: 0.9583 - val_loss: 1.9650 - val_accuracy: 0.6906\n",
      "Epoch 19/100\n",
      "7895/7895 [==============================] - 1s 113us/step - loss: 0.1308 - accuracy: 0.9564 - val_loss: 1.6453 - val_accuracy: 0.6953\n",
      "Epoch 20/100\n",
      "7895/7895 [==============================] - 1s 112us/step - loss: 0.1545 - accuracy: 0.9536 - val_loss: 1.8458 - val_accuracy: 0.6810\n",
      "Epoch 21/100\n",
      "7895/7895 [==============================] - 1s 113us/step - loss: 0.1527 - accuracy: 0.9554 - val_loss: 1.6789 - val_accuracy: 0.6726\n",
      "Epoch 22/100\n",
      "7895/7895 [==============================] - 1s 112us/step - loss: 0.1212 - accuracy: 0.9620 - val_loss: 1.4785 - val_accuracy: 0.6798\n",
      "Epoch 23/100\n",
      "7895/7895 [==============================] - 1s 113us/step - loss: 0.1277 - accuracy: 0.9610 - val_loss: 1.4779 - val_accuracy: 0.6977\n",
      "Epoch 24/100\n",
      "7895/7895 [==============================] - 1s 112us/step - loss: 0.1135 - accuracy: 0.9635 - val_loss: 1.6224 - val_accuracy: 0.6870\n",
      "Epoch 25/100\n",
      "7895/7895 [==============================] - 1s 112us/step - loss: 0.1238 - accuracy: 0.9638 - val_loss: 1.7203 - val_accuracy: 0.6822\n",
      "Epoch 26/100\n",
      "7895/7895 [==============================] - 1s 112us/step - loss: 0.1180 - accuracy: 0.9607 - val_loss: 1.5862 - val_accuracy: 0.6906\n",
      "Epoch 27/100\n",
      "7895/7895 [==============================] - 1s 113us/step - loss: 0.1355 - accuracy: 0.9598 - val_loss: 2.0105 - val_accuracy: 0.6798\n",
      "Epoch 28/100\n",
      "7895/7895 [==============================] - 1s 118us/step - loss: 0.1609 - accuracy: 0.9526 - val_loss: 1.5022 - val_accuracy: 0.6930\n",
      "Epoch 29/100\n",
      "7895/7895 [==============================] - 1s 115us/step - loss: 0.1409 - accuracy: 0.9553 - val_loss: 1.6216 - val_accuracy: 0.6882\n",
      "Epoch 30/100\n",
      "7895/7895 [==============================] - 1s 113us/step - loss: 0.1184 - accuracy: 0.9605 - val_loss: 1.5144 - val_accuracy: 0.6953\n",
      "Epoch 31/100\n",
      "7895/7895 [==============================] - 1s 114us/step - loss: 0.1140 - accuracy: 0.9617 - val_loss: 1.4451 - val_accuracy: 0.6906\n",
      "Epoch 32/100\n",
      "7895/7895 [==============================] - 1s 113us/step - loss: 0.1056 - accuracy: 0.9642 - val_loss: 1.7239 - val_accuracy: 0.7097\n",
      "Epoch 33/100\n",
      "7895/7895 [==============================] - 1s 112us/step - loss: 0.1260 - accuracy: 0.9604 - val_loss: 1.8430 - val_accuracy: 0.6798\n",
      "Epoch 34/100\n",
      "7895/7895 [==============================] - 1s 113us/step - loss: 0.1170 - accuracy: 0.9624 - val_loss: 1.6547 - val_accuracy: 0.7145\n",
      "Epoch 35/100\n",
      "7895/7895 [==============================] - 1s 112us/step - loss: 0.0971 - accuracy: 0.9710 - val_loss: 1.8505 - val_accuracy: 0.6953\n",
      "Epoch 36/100\n",
      "7895/7895 [==============================] - 1s 114us/step - loss: 0.1341 - accuracy: 0.9606 - val_loss: 1.5372 - val_accuracy: 0.6798\n",
      "Epoch 37/100\n",
      "7895/7895 [==============================] - 1s 116us/step - loss: 0.1520 - accuracy: 0.9571 - val_loss: 1.5761 - val_accuracy: 0.6930\n",
      "Epoch 38/100\n",
      "7895/7895 [==============================] - 1s 114us/step - loss: 0.1663 - accuracy: 0.9512 - val_loss: 2.0463 - val_accuracy: 0.6977\n",
      "Epoch 39/100\n",
      "7895/7895 [==============================] - 1s 115us/step - loss: 0.1586 - accuracy: 0.9553 - val_loss: 1.8409 - val_accuracy: 0.7049\n",
      "Epoch 40/100\n",
      "7895/7895 [==============================] - 1s 113us/step - loss: 0.1019 - accuracy: 0.9661 - val_loss: 1.9377 - val_accuracy: 0.6941\n",
      "Epoch 41/100\n",
      "7895/7895 [==============================] - 1s 115us/step - loss: 0.1203 - accuracy: 0.9621 - val_loss: 1.7262 - val_accuracy: 0.7049\n",
      "Epoch 42/100\n",
      "7895/7895 [==============================] - 1s 116us/step - loss: 0.0906 - accuracy: 0.9714 - val_loss: 1.8073 - val_accuracy: 0.7240\n",
      "Epoch 43/100\n",
      "7895/7895 [==============================] - 1s 115us/step - loss: 0.1027 - accuracy: 0.9685 - val_loss: 1.7791 - val_accuracy: 0.6870\n",
      "Epoch 44/100\n",
      "7895/7895 [==============================] - 1s 114us/step - loss: 0.1302 - accuracy: 0.9643 - val_loss: 1.7045 - val_accuracy: 0.6631\n",
      "Epoch 45/100\n",
      "7895/7895 [==============================] - 1s 113us/step - loss: 0.1520 - accuracy: 0.9540 - val_loss: 1.5705 - val_accuracy: 0.6882\n",
      "Epoch 46/100\n",
      "7895/7895 [==============================] - 1s 113us/step - loss: 0.1481 - accuracy: 0.9588 - val_loss: 1.5764 - val_accuracy: 0.6834\n",
      "Epoch 47/100\n",
      "7895/7895 [==============================] - 1s 113us/step - loss: 0.1439 - accuracy: 0.9577 - val_loss: 1.3697 - val_accuracy: 0.7097\n",
      "Epoch 48/100\n",
      "7895/7895 [==============================] - 1s 114us/step - loss: 0.1483 - accuracy: 0.9574 - val_loss: 1.5477 - val_accuracy: 0.7049\n",
      "Epoch 49/100\n",
      "7895/7895 [==============================] - 1s 112us/step - loss: 0.1474 - accuracy: 0.9571 - val_loss: 1.3453 - val_accuracy: 0.6894\n",
      "Epoch 50/100\n",
      "7895/7895 [==============================] - 1s 117us/step - loss: 0.1252 - accuracy: 0.9633 - val_loss: 1.8123 - val_accuracy: 0.6894\n",
      "Epoch 51/100\n",
      "7895/7895 [==============================] - 1s 114us/step - loss: 0.1208 - accuracy: 0.9642 - val_loss: 1.4541 - val_accuracy: 0.7109\n",
      "Epoch 52/100\n",
      "7895/7895 [==============================] - 1s 115us/step - loss: 0.1534 - accuracy: 0.9631 - val_loss: 1.6458 - val_accuracy: 0.6714\n",
      "Epoch 53/100\n",
      "7895/7895 [==============================] - 1s 122us/step - loss: 0.1391 - accuracy: 0.9609 - val_loss: 1.5563 - val_accuracy: 0.6798\n",
      "Epoch 54/100\n",
      "7895/7895 [==============================] - 1s 118us/step - loss: 0.1350 - accuracy: 0.9615 - val_loss: 1.5275 - val_accuracy: 0.7085\n",
      "Epoch 55/100\n",
      "7895/7895 [==============================] - 1s 116us/step - loss: 0.1130 - accuracy: 0.9676 - val_loss: 1.6835 - val_accuracy: 0.6894\n",
      "Epoch 56/100\n"
     ]
    },
    {
     "name": "stdout",
     "output_type": "stream",
     "text": [
      "7895/7895 [==============================] - 1s 115us/step - loss: 0.0962 - accuracy: 0.9742 - val_loss: 1.6940 - val_accuracy: 0.6870\n",
      "Epoch 57/100\n",
      "7895/7895 [==============================] - 1s 116us/step - loss: 0.1250 - accuracy: 0.9647 - val_loss: 1.4042 - val_accuracy: 0.7061\n",
      "Epoch 58/100\n",
      "7895/7895 [==============================] - 1s 118us/step - loss: 0.1416 - accuracy: 0.9609 - val_loss: 1.5992 - val_accuracy: 0.6703\n",
      "Epoch 59/100\n",
      "7895/7895 [==============================] - 1s 113us/step - loss: 0.1571 - accuracy: 0.9638 - val_loss: 1.4425 - val_accuracy: 0.6834\n",
      "Epoch 60/100\n",
      "7895/7895 [==============================] - 1s 113us/step - loss: 0.1208 - accuracy: 0.9659 - val_loss: 1.4743 - val_accuracy: 0.6870\n",
      "Epoch 61/100\n",
      "7895/7895 [==============================] - 1s 113us/step - loss: 0.0853 - accuracy: 0.9744 - val_loss: 1.5164 - val_accuracy: 0.6977\n",
      "Epoch 62/100\n",
      "7895/7895 [==============================] - 1s 114us/step - loss: 0.0939 - accuracy: 0.9700 - val_loss: 1.5832 - val_accuracy: 0.7097\n",
      "Epoch 63/100\n",
      "7895/7895 [==============================] - 1s 114us/step - loss: 0.0974 - accuracy: 0.9706 - val_loss: 1.7140 - val_accuracy: 0.6822\n",
      "Epoch 64/100\n",
      "7895/7895 [==============================] - 1s 119us/step - loss: 0.0902 - accuracy: 0.9709 - val_loss: 1.3249 - val_accuracy: 0.7252\n",
      "Epoch 65/100\n",
      "7895/7895 [==============================] - 1s 116us/step - loss: 0.0852 - accuracy: 0.9738 - val_loss: 1.6098 - val_accuracy: 0.6977\n",
      "Epoch 66/100\n",
      "7895/7895 [==============================] - 1s 115us/step - loss: 0.0982 - accuracy: 0.9697 - val_loss: 1.8691 - val_accuracy: 0.6750\n",
      "Epoch 67/100\n",
      "7895/7895 [==============================] - 1s 116us/step - loss: 0.1108 - accuracy: 0.9662 - val_loss: 1.5565 - val_accuracy: 0.7073\n",
      "Epoch 68/100\n",
      "7895/7895 [==============================] - 1s 115us/step - loss: 0.0959 - accuracy: 0.9714 - val_loss: 1.5168 - val_accuracy: 0.7360\n",
      "Epoch 69/100\n",
      "7895/7895 [==============================] - 1s 115us/step - loss: 0.0850 - accuracy: 0.9731 - val_loss: 1.6181 - val_accuracy: 0.7157\n",
      "Epoch 70/100\n",
      "7895/7895 [==============================] - 1s 121us/step - loss: 0.0991 - accuracy: 0.9725 - val_loss: 1.5938 - val_accuracy: 0.7240\n",
      "Epoch 71/100\n",
      "7895/7895 [==============================] - 1s 114us/step - loss: 0.1904 - accuracy: 0.9564 - val_loss: 1.5542 - val_accuracy: 0.7276\n",
      "Epoch 72/100\n",
      "7895/7895 [==============================] - 1s 112us/step - loss: 0.2043 - accuracy: 0.9547 - val_loss: 1.4848 - val_accuracy: 0.7180\n",
      "Epoch 73/100\n",
      "7895/7895 [==============================] - 1s 113us/step - loss: 0.1413 - accuracy: 0.9634 - val_loss: 1.6242 - val_accuracy: 0.7204\n",
      "Epoch 74/100\n",
      "7895/7895 [==============================] - 1s 113us/step - loss: 0.1296 - accuracy: 0.9645 - val_loss: 1.6598 - val_accuracy: 0.7168\n",
      "Epoch 75/100\n",
      "7895/7895 [==============================] - 1s 116us/step - loss: 0.1275 - accuracy: 0.9609 - val_loss: 1.8260 - val_accuracy: 0.6906\n",
      "Epoch 76/100\n",
      "7895/7895 [==============================] - 1s 114us/step - loss: 0.1075 - accuracy: 0.9699 - val_loss: 1.6631 - val_accuracy: 0.7109\n",
      "Epoch 77/100\n",
      "7895/7895 [==============================] - 1s 115us/step - loss: 0.1532 - accuracy: 0.9617 - val_loss: 1.6793 - val_accuracy: 0.6989\n",
      "Epoch 78/100\n",
      "7895/7895 [==============================] - 1s 114us/step - loss: 0.1170 - accuracy: 0.9683 - val_loss: 1.5066 - val_accuracy: 0.7180\n",
      "Epoch 79/100\n",
      "7895/7895 [==============================] - 1s 114us/step - loss: 0.1156 - accuracy: 0.9664 - val_loss: 1.6839 - val_accuracy: 0.6930\n",
      "Epoch 80/100\n",
      "7895/7895 [==============================] - 1s 114us/step - loss: 0.1251 - accuracy: 0.9669 - val_loss: 1.4895 - val_accuracy: 0.7097\n",
      "Epoch 81/100\n",
      "7895/7895 [==============================] - 1s 115us/step - loss: 0.1016 - accuracy: 0.9704 - val_loss: 1.7705 - val_accuracy: 0.6930\n",
      "Epoch 82/100\n",
      "7895/7895 [==============================] - 1s 113us/step - loss: 0.0881 - accuracy: 0.9731 - val_loss: 1.8120 - val_accuracy: 0.6930\n",
      "Epoch 83/100\n",
      "7895/7895 [==============================] - 1s 114us/step - loss: 0.0920 - accuracy: 0.9718 - val_loss: 1.9076 - val_accuracy: 0.7025\n",
      "Epoch 84/100\n",
      "7895/7895 [==============================] - 1s 118us/step - loss: 0.0972 - accuracy: 0.9696 - val_loss: 2.0085 - val_accuracy: 0.7121\n",
      "Epoch 85/100\n",
      "7895/7895 [==============================] - 1s 117us/step - loss: 0.0916 - accuracy: 0.9730 - val_loss: 1.7062 - val_accuracy: 0.7204\n",
      "Epoch 86/100\n",
      "7895/7895 [==============================] - 1s 114us/step - loss: 0.0907 - accuracy: 0.9725 - val_loss: 1.8100 - val_accuracy: 0.6989\n",
      "Epoch 87/100\n",
      "7895/7895 [==============================] - 1s 115us/step - loss: 0.1171 - accuracy: 0.9654 - val_loss: 1.7031 - val_accuracy: 0.6882\n",
      "Epoch 88/100\n",
      "7895/7895 [==============================] - 1s 114us/step - loss: 0.0984 - accuracy: 0.9682 - val_loss: 2.3513 - val_accuracy: 0.6714\n",
      "Epoch 89/100\n",
      "7895/7895 [==============================] - 1s 113us/step - loss: 0.1591 - accuracy: 0.9629 - val_loss: 1.5889 - val_accuracy: 0.6798\n",
      "Epoch 90/100\n",
      "7895/7895 [==============================] - 1s 113us/step - loss: 0.1430 - accuracy: 0.9620 - val_loss: 2.1483 - val_accuracy: 0.6810\n",
      "Epoch 91/100\n",
      "7895/7895 [==============================] - 1s 116us/step - loss: 0.1541 - accuracy: 0.9639 - val_loss: 1.6764 - val_accuracy: 0.7049\n",
      "Epoch 92/100\n",
      "7895/7895 [==============================] - 1s 116us/step - loss: 0.0888 - accuracy: 0.9733 - val_loss: 1.8213 - val_accuracy: 0.7097\n",
      "Epoch 93/100\n",
      "7895/7895 [==============================] - 1s 115us/step - loss: 0.0882 - accuracy: 0.9757 - val_loss: 1.8363 - val_accuracy: 0.6894\n",
      "Epoch 94/100\n",
      "7895/7895 [==============================] - 1s 114us/step - loss: 0.0953 - accuracy: 0.9726 - val_loss: 2.2723 - val_accuracy: 0.6834\n",
      "Epoch 95/100\n",
      "7895/7895 [==============================] - 1s 115us/step - loss: 0.1091 - accuracy: 0.9714 - val_loss: 2.0839 - val_accuracy: 0.7001\n",
      "Epoch 96/100\n",
      "7895/7895 [==============================] - 1s 114us/step - loss: 0.1041 - accuracy: 0.9714 - val_loss: 2.1304 - val_accuracy: 0.6894\n",
      "Epoch 97/100\n",
      "7895/7895 [==============================] - 1s 114us/step - loss: 0.0934 - accuracy: 0.9721 - val_loss: 2.0135 - val_accuracy: 0.6965\n",
      "Epoch 98/100\n",
      "7895/7895 [==============================] - 1s 116us/step - loss: 0.0925 - accuracy: 0.9735 - val_loss: 1.9706 - val_accuracy: 0.6667\n",
      "Epoch 99/100\n",
      "7895/7895 [==============================] - 1s 112us/step - loss: 0.1196 - accuracy: 0.9672 - val_loss: 1.8045 - val_accuracy: 0.7157\n",
      "Epoch 100/100\n",
      "7895/7895 [==============================] - 1s 114us/step - loss: 0.1677 - accuracy: 0.9590 - val_loss: 1.9151 - val_accuracy: 0.6750\n"
     ]
    },
    {
     "data": {
      "text/plain": [
       "<keras.callbacks.callbacks.History at 0x1f283d50fc8>"
      ]
     },
     "execution_count": 14,
     "metadata": {},
     "output_type": "execute_result"
    }
   ],
   "source": [
    "\n",
    "#training the model\n",
    "model.fit(x_train,y_train,batch_size=50,epochs=100,validation_data=(x_test,y_test))"
   ]
  },
  {
   "cell_type": "code",
   "execution_count": 15,
   "metadata": {},
   "outputs": [
    {
     "name": "stdout",
     "output_type": "stream",
     "text": [
      "7895/7895 [==============================] - 1s 65us/step\n",
      "837/837 [==============================] - 0s 66us/step\n",
      "[0.03589848824060138, 0.9861937761306763]\n",
      "[1.7006719902852103, 0.7144563794136047]\n"
     ]
    }
   ],
   "source": [
    "\n",
    "#train and test loss and scores respectively\n",
    "train_loss_score=model.evaluate(x_train,y_train)\n",
    "test_loss_score=model.evaluate(x_test,y_test)\n",
    "print(train_loss_score)\n",
    "print(test_loss_score)"
   ]
  },
  {
   "cell_type": "code",
   "execution_count": null,
   "metadata": {},
   "outputs": [],
   "source": []
  }
 ],
 "metadata": {
  "kernelspec": {
   "display_name": "Python 3",
   "language": "python",
   "name": "python3"
  },
  "language_info": {
   "codemirror_mode": {
    "name": "ipython",
    "version": 3
   },
   "file_extension": ".py",
   "mimetype": "text/x-python",
   "name": "python",
   "nbconvert_exporter": "python",
   "pygments_lexer": "ipython3",
   "version": "3.7.5"
  }
 },
 "nbformat": 4,
 "nbformat_minor": 4
}
