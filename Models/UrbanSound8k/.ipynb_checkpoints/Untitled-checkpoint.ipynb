{
 "cells": [
  {
   "cell_type": "code",
   "execution_count": 8,
   "metadata": {},
   "outputs": [],
   "source": [
    "import UrbanSound8k_features as F\n",
    "import numpy as np"
   ]
  },
  {
   "cell_type": "code",
   "execution_count": 15,
   "metadata": {},
   "outputs": [
    {
     "name": "stdout",
     "output_type": "stream",
     "text": [
      "C:\\Users\\tlsck\\IMPRESS\\Data\\UrbanSound8K\\audio\\fold1\\101415-3-0-2.wav\n",
      "Err: encountered while parsing file:  C:\\Users\\tlsck\\IMPRESS\\Data\\UrbanSound8K\\audio\\fold1\\101415-3-0-2.wav\n",
      "C:\\Users\\tlsck\\IMPRESS\\Data\\UrbanSound8K\\audio\\fold1\\101415-3-0-3.wav\n",
      "Err: encountered while parsing file:  C:\\Users\\tlsck\\IMPRESS\\Data\\UrbanSound8K\\audio\\fold1\\101415-3-0-3.wav\n",
      "C:\\Users\\tlsck\\IMPRESS\\Data\\UrbanSound8K\\audio\\fold1\\101415-3-0-8.wav\n",
      "Err: encountered while parsing file:  C:\\Users\\tlsck\\IMPRESS\\Data\\UrbanSound8K\\audio\\fold1\\101415-3-0-8.wav\n",
      "C:\\Users\\tlsck\\IMPRESS\\Data\\UrbanSound8K\\audio\\fold1\\102106-3-0-0.wav\n",
      "Err: encountered while parsing file:  C:\\Users\\tlsck\\IMPRESS\\Data\\UrbanSound8K\\audio\\fold1\\102106-3-0-0.wav\n",
      "C:\\Users\\tlsck\\IMPRESS\\Data\\UrbanSound8K\\audio\\fold1\\102305-6-0-0.wav\n",
      "Err: encountered while parsing file:  C:\\Users\\tlsck\\IMPRESS\\Data\\UrbanSound8K\\audio\\fold1\\102305-6-0-0.wav\n",
      "C:\\Users\\tlsck\\IMPRESS\\Data\\UrbanSound8K\\audio\\fold1\\102842-3-0-1.wav\n",
      "Err: encountered while parsing file:  C:\\Users\\tlsck\\IMPRESS\\Data\\UrbanSound8K\\audio\\fold1\\102842-3-0-1.wav\n",
      "C:\\Users\\tlsck\\IMPRESS\\Data\\UrbanSound8K\\audio\\fold1\\102842-3-1-0.wav\n",
      "Err: encountered while parsing file:  C:\\Users\\tlsck\\IMPRESS\\Data\\UrbanSound8K\\audio\\fold1\\102842-3-1-0.wav\n",
      "C:\\Users\\tlsck\\IMPRESS\\Data\\UrbanSound8K\\audio\\fold1\\102842-3-1-5.wav\n",
      "Err: encountered while parsing file:  C:\\Users\\tlsck\\IMPRESS\\Data\\UrbanSound8K\\audio\\fold1\\102842-3-1-5.wav\n",
      "C:\\Users\\tlsck\\IMPRESS\\Data\\UrbanSound8K\\audio\\fold1\\102842-3-1-6.wav\n",
      "Err: encountered while parsing file:  C:\\Users\\tlsck\\IMPRESS\\Data\\UrbanSound8K\\audio\\fold1\\102842-3-1-6.wav\n",
      "C:\\Users\\tlsck\\IMPRESS\\Data\\UrbanSound8K\\audio\\fold1\\103074-7-0-0.wav\n",
      "Err: encountered while parsing file:  C:\\Users\\tlsck\\IMPRESS\\Data\\UrbanSound8K\\audio\\fold1\\103074-7-0-0.wav\n",
      "C:\\Users\\tlsck\\IMPRESS\\Data\\UrbanSound8K\\audio\\fold1\\103074-7-0-1.wav\n",
      "Err: encountered while parsing file:  C:\\Users\\tlsck\\IMPRESS\\Data\\UrbanSound8K\\audio\\fold1\\103074-7-0-1.wav\n",
      "C:\\Users\\tlsck\\IMPRESS\\Data\\UrbanSound8K\\audio\\fold1\\103074-7-0-2.wav\n",
      "Err: encountered while parsing file:  C:\\Users\\tlsck\\IMPRESS\\Data\\UrbanSound8K\\audio\\fold1\\103074-7-0-2.wav\n",
      "C:\\Users\\tlsck\\IMPRESS\\Data\\UrbanSound8K\\audio\\fold1\\103074-7-1-0.wav\n",
      "Err: encountered while parsing file:  C:\\Users\\tlsck\\IMPRESS\\Data\\UrbanSound8K\\audio\\fold1\\103074-7-1-0.wav\n",
      "C:\\Users\\tlsck\\IMPRESS\\Data\\UrbanSound8K\\audio\\fold1\\103074-7-1-1.wav\n",
      "Err: encountered while parsing file:  C:\\Users\\tlsck\\IMPRESS\\Data\\UrbanSound8K\\audio\\fold1\\103074-7-1-1.wav\n",
      "C:\\Users\\tlsck\\IMPRESS\\Data\\UrbanSound8K\\audio\\fold1\\103074-7-1-2.wav\n",
      "Err: encountered while parsing file:  C:\\Users\\tlsck\\IMPRESS\\Data\\UrbanSound8K\\audio\\fold1\\103074-7-1-2.wav\n",
      "C:\\Users\\tlsck\\IMPRESS\\Data\\UrbanSound8K\\audio\\fold1\\103074-7-1-3.wav\n",
      "Err: encountered while parsing file:  C:\\Users\\tlsck\\IMPRESS\\Data\\UrbanSound8K\\audio\\fold1\\103074-7-1-3.wav\n",
      "C:\\Users\\tlsck\\IMPRESS\\Data\\UrbanSound8K\\audio\\fold1\\103074-7-1-4.wav\n",
      "Err: encountered while parsing file:  C:\\Users\\tlsck\\IMPRESS\\Data\\UrbanSound8K\\audio\\fold1\\103074-7-1-4.wav\n",
      "C:\\Users\\tlsck\\IMPRESS\\Data\\UrbanSound8K\\audio\\fold1\\103074-7-1-5.wav\n",
      "Err: encountered while parsing file:  C:\\Users\\tlsck\\IMPRESS\\Data\\UrbanSound8K\\audio\\fold1\\103074-7-1-5.wav\n",
      "C:\\Users\\tlsck\\IMPRESS\\Data\\UrbanSound8K\\audio\\fold1\\103074-7-1-6.wav\n",
      "Err: encountered while parsing file:  C:\\Users\\tlsck\\IMPRESS\\Data\\UrbanSound8K\\audio\\fold1\\103074-7-1-6.wav\n",
      "C:\\Users\\tlsck\\IMPRESS\\Data\\UrbanSound8K\\audio\\fold1\\103074-7-2-0.wav\n",
      "Err: encountered while parsing file:  C:\\Users\\tlsck\\IMPRESS\\Data\\UrbanSound8K\\audio\\fold1\\103074-7-2-0.wav\n",
      "C:\\Users\\tlsck\\IMPRESS\\Data\\UrbanSound8K\\audio\\fold1\\103074-7-3-0.wav\n",
      "Err: encountered while parsing file:  C:\\Users\\tlsck\\IMPRESS\\Data\\UrbanSound8K\\audio\\fold1\\103074-7-3-0.wav\n",
      "C:\\Users\\tlsck\\IMPRESS\\Data\\UrbanSound8K\\audio\\fold1\\103074-7-3-1.wav\n",
      "Err: encountered while parsing file:  C:\\Users\\tlsck\\IMPRESS\\Data\\UrbanSound8K\\audio\\fold1\\103074-7-3-1.wav\n",
      "C:\\Users\\tlsck\\IMPRESS\\Data\\UrbanSound8K\\audio\\fold1\\103074-7-3-2.wav\n",
      "Err: encountered while parsing file:  C:\\Users\\tlsck\\IMPRESS\\Data\\UrbanSound8K\\audio\\fold1\\103074-7-3-2.wav\n",
      "C:\\Users\\tlsck\\IMPRESS\\Data\\UrbanSound8K\\audio\\fold1\\103074-7-3-3.wav\n",
      "Err: encountered while parsing file:  C:\\Users\\tlsck\\IMPRESS\\Data\\UrbanSound8K\\audio\\fold1\\103074-7-3-3.wav\n",
      "C:\\Users\\tlsck\\IMPRESS\\Data\\UrbanSound8K\\audio\\fold1\\103074-7-4-0.wav\n",
      "Err: encountered while parsing file:  C:\\Users\\tlsck\\IMPRESS\\Data\\UrbanSound8K\\audio\\fold1\\103074-7-4-0.wav\n",
      "C:\\Users\\tlsck\\IMPRESS\\Data\\UrbanSound8K\\audio\\fold1\\103074-7-4-1.wav\n",
      "Err: encountered while parsing file:  C:\\Users\\tlsck\\IMPRESS\\Data\\UrbanSound8K\\audio\\fold1\\103074-7-4-1.wav\n",
      "C:\\Users\\tlsck\\IMPRESS\\Data\\UrbanSound8K\\audio\\fold1\\103074-7-4-2.wav\n",
      "Err: encountered while parsing file:  C:\\Users\\tlsck\\IMPRESS\\Data\\UrbanSound8K\\audio\\fold1\\103074-7-4-2.wav\n",
      "C:\\Users\\tlsck\\IMPRESS\\Data\\UrbanSound8K\\audio\\fold1\\103074-7-4-3.wav\n",
      "Err: encountered while parsing file:  C:\\Users\\tlsck\\IMPRESS\\Data\\UrbanSound8K\\audio\\fold1\\103074-7-4-3.wav\n",
      "C:\\Users\\tlsck\\IMPRESS\\Data\\UrbanSound8K\\audio\\fold1\\103074-7-4-4.wav\n",
      "Err: encountered while parsing file:  C:\\Users\\tlsck\\IMPRESS\\Data\\UrbanSound8K\\audio\\fold1\\103074-7-4-4.wav\n",
      "C:\\Users\\tlsck\\IMPRESS\\Data\\UrbanSound8K\\audio\\fold1\\103074-7-4-5.wav\n",
      "Err: encountered while parsing file:  C:\\Users\\tlsck\\IMPRESS\\Data\\UrbanSound8K\\audio\\fold1\\103074-7-4-5.wav\n",
      "C:\\Users\\tlsck\\IMPRESS\\Data\\UrbanSound8K\\audio\\fold1\\103074-7-4-6.wav\n",
      "Err: encountered while parsing file:  C:\\Users\\tlsck\\IMPRESS\\Data\\UrbanSound8K\\audio\\fold1\\103074-7-4-6.wav\n",
      "C:\\Users\\tlsck\\IMPRESS\\Data\\UrbanSound8K\\audio\\fold1\\103258-5-0-0.wav\n",
      "Err: encountered while parsing file:  C:\\Users\\tlsck\\IMPRESS\\Data\\UrbanSound8K\\audio\\fold1\\103258-5-0-0.wav\n",
      "C:\\Users\\tlsck\\IMPRESS\\Data\\UrbanSound8K\\audio\\fold1\\103258-5-0-1.wav\n",
      "Err: encountered while parsing file:  C:\\Users\\tlsck\\IMPRESS\\Data\\UrbanSound8K\\audio\\fold1\\103258-5-0-1.wav\n",
      "C:\\Users\\tlsck\\IMPRESS\\Data\\UrbanSound8K\\audio\\fold1\\103258-5-0-10.wav\n",
      "Err: encountered while parsing file:  C:\\Users\\tlsck\\IMPRESS\\Data\\UrbanSound8K\\audio\\fold1\\103258-5-0-10.wav\n",
      "C:\\Users\\tlsck\\IMPRESS\\Data\\UrbanSound8K\\audio\\fold1\\103258-5-0-11.wav\n",
      "Err: encountered while parsing file:  C:\\Users\\tlsck\\IMPRESS\\Data\\UrbanSound8K\\audio\\fold1\\103258-5-0-11.wav\n",
      "C:\\Users\\tlsck\\IMPRESS\\Data\\UrbanSound8K\\audio\\fold1\\103258-5-0-12.wav\n",
      "Err: encountered while parsing file:  C:\\Users\\tlsck\\IMPRESS\\Data\\UrbanSound8K\\audio\\fold1\\103258-5-0-12.wav\n",
      "C:\\Users\\tlsck\\IMPRESS\\Data\\UrbanSound8K\\audio\\fold1\\103258-5-0-13.wav\n",
      "Err: encountered while parsing file:  C:\\Users\\tlsck\\IMPRESS\\Data\\UrbanSound8K\\audio\\fold1\\103258-5-0-13.wav\n",
      "C:\\Users\\tlsck\\IMPRESS\\Data\\UrbanSound8K\\audio\\fold1\\103258-5-0-14.wav\n",
      "Err: encountered while parsing file:  C:\\Users\\tlsck\\IMPRESS\\Data\\UrbanSound8K\\audio\\fold1\\103258-5-0-14.wav\n",
      "C:\\Users\\tlsck\\IMPRESS\\Data\\UrbanSound8K\\audio\\fold1\\103258-5-0-15.wav\n"
     ]
    },
    {
     "ename": "KeyboardInterrupt",
     "evalue": "",
     "output_type": "error",
     "traceback": [
      "\u001b[1;31m---------------------------------------------------------------------------\u001b[0m",
      "\u001b[1;31mKeyboardInterrupt\u001b[0m                         Traceback (most recent call last)",
      "\u001b[1;32m<ipython-input-15-c4fcf4075ad5>\u001b[0m in \u001b[0;36m<module>\u001b[1;34m\u001b[0m\n\u001b[0;32m      2\u001b[0m \u001b[0mtr_sub_dirs\u001b[0m\u001b[1;33m=\u001b[0m\u001b[1;33m[\u001b[0m\u001b[1;34m'fold1'\u001b[0m\u001b[1;33m,\u001b[0m\u001b[1;34m'fold2'\u001b[0m\u001b[1;33m]\u001b[0m\u001b[1;33m\u001b[0m\u001b[1;33m\u001b[0m\u001b[0m\n\u001b[0;32m      3\u001b[0m \u001b[0mts_sub_dirs\u001b[0m\u001b[1;33m=\u001b[0m\u001b[1;33m[\u001b[0m\u001b[1;34m'fold3'\u001b[0m\u001b[1;33m]\u001b[0m\u001b[1;33m\u001b[0m\u001b[1;33m\u001b[0m\u001b[0m\n\u001b[1;32m----> 4\u001b[1;33m \u001b[0mtr_features\u001b[0m\u001b[1;33m,\u001b[0m\u001b[0mtr_labels\u001b[0m\u001b[1;33m=\u001b[0m\u001b[0mF\u001b[0m\u001b[1;33m.\u001b[0m\u001b[0mparse_audio_files\u001b[0m\u001b[1;33m(\u001b[0m\u001b[0mparent_dir\u001b[0m\u001b[1;33m,\u001b[0m\u001b[0mtr_sub_dirs\u001b[0m\u001b[1;33m)\u001b[0m\u001b[1;33m\u001b[0m\u001b[1;33m\u001b[0m\u001b[0m\n\u001b[0m\u001b[0;32m      5\u001b[0m \u001b[0mts_features\u001b[0m\u001b[1;33m,\u001b[0m\u001b[0mts_labels\u001b[0m\u001b[1;33m=\u001b[0m\u001b[0mF\u001b[0m\u001b[1;33m.\u001b[0m\u001b[0mparse_audio_files\u001b[0m\u001b[1;33m(\u001b[0m\u001b[0mparent_dir\u001b[0m\u001b[1;33m,\u001b[0m\u001b[0mts_sub_dirs\u001b[0m\u001b[1;33m)\u001b[0m\u001b[1;33m\u001b[0m\u001b[1;33m\u001b[0m\u001b[0m\n\u001b[0;32m      6\u001b[0m \u001b[1;33m\u001b[0m\u001b[0m\n",
      "\u001b[1;32m~\\IMPRESS\\Models\\UrbanSound8k\\UrbanSound8k_features.py\u001b[0m in \u001b[0;36mparse_audio_files\u001b[1;34m(parent_dir, sub_dirs, file_ext)\u001b[0m\n",
      "\u001b[1;32m~\\IMPRESS\\Models\\UrbanSound8k\\UrbanSound8k_features.py\u001b[0m in \u001b[0;36mextract_feature\u001b[1;34m(file)\u001b[0m\n",
      "\u001b[1;32m~\\Anaconda3\\envs\\study\\lib\\site-packages\\librosa\\core\\audio.py\u001b[0m in \u001b[0;36mload\u001b[1;34m(path, sr, mono, offset, duration, dtype, res_type)\u001b[0m\n\u001b[0;32m    170\u001b[0m \u001b[1;33m\u001b[0m\u001b[0m\n\u001b[0;32m    171\u001b[0m     \u001b[1;32mif\u001b[0m \u001b[0msr\u001b[0m \u001b[1;32mis\u001b[0m \u001b[1;32mnot\u001b[0m \u001b[1;32mNone\u001b[0m\u001b[1;33m:\u001b[0m\u001b[1;33m\u001b[0m\u001b[1;33m\u001b[0m\u001b[0m\n\u001b[1;32m--> 172\u001b[1;33m         \u001b[0my\u001b[0m \u001b[1;33m=\u001b[0m \u001b[0mresample\u001b[0m\u001b[1;33m(\u001b[0m\u001b[0my\u001b[0m\u001b[1;33m,\u001b[0m \u001b[0msr_native\u001b[0m\u001b[1;33m,\u001b[0m \u001b[0msr\u001b[0m\u001b[1;33m,\u001b[0m \u001b[0mres_type\u001b[0m\u001b[1;33m=\u001b[0m\u001b[0mres_type\u001b[0m\u001b[1;33m)\u001b[0m\u001b[1;33m\u001b[0m\u001b[1;33m\u001b[0m\u001b[0m\n\u001b[0m\u001b[0;32m    173\u001b[0m \u001b[1;33m\u001b[0m\u001b[0m\n\u001b[0;32m    174\u001b[0m     \u001b[1;32melse\u001b[0m\u001b[1;33m:\u001b[0m\u001b[1;33m\u001b[0m\u001b[1;33m\u001b[0m\u001b[0m\n",
      "\u001b[1;32m~\\Anaconda3\\envs\\study\\lib\\site-packages\\librosa\\core\\audio.py\u001b[0m in \u001b[0;36mresample\u001b[1;34m(y, orig_sr, target_sr, res_type, fix, scale, **kwargs)\u001b[0m\n\u001b[0;32m    582\u001b[0m         \u001b[0my_hat\u001b[0m \u001b[1;33m=\u001b[0m \u001b[0msamplerate\u001b[0m\u001b[1;33m.\u001b[0m\u001b[0mresample\u001b[0m\u001b[1;33m(\u001b[0m\u001b[0my\u001b[0m\u001b[1;33m.\u001b[0m\u001b[0mT\u001b[0m\u001b[1;33m,\u001b[0m \u001b[0mratio\u001b[0m\u001b[1;33m,\u001b[0m \u001b[0mconverter_type\u001b[0m\u001b[1;33m=\u001b[0m\u001b[0mres_type\u001b[0m\u001b[1;33m)\u001b[0m\u001b[1;33m.\u001b[0m\u001b[0mT\u001b[0m\u001b[1;33m\u001b[0m\u001b[1;33m\u001b[0m\u001b[0m\n\u001b[0;32m    583\u001b[0m     \u001b[1;32melse\u001b[0m\u001b[1;33m:\u001b[0m\u001b[1;33m\u001b[0m\u001b[1;33m\u001b[0m\u001b[0m\n\u001b[1;32m--> 584\u001b[1;33m         \u001b[0my_hat\u001b[0m \u001b[1;33m=\u001b[0m \u001b[0mresampy\u001b[0m\u001b[1;33m.\u001b[0m\u001b[0mresample\u001b[0m\u001b[1;33m(\u001b[0m\u001b[0my\u001b[0m\u001b[1;33m,\u001b[0m \u001b[0morig_sr\u001b[0m\u001b[1;33m,\u001b[0m \u001b[0mtarget_sr\u001b[0m\u001b[1;33m,\u001b[0m \u001b[0mfilter\u001b[0m\u001b[1;33m=\u001b[0m\u001b[0mres_type\u001b[0m\u001b[1;33m,\u001b[0m \u001b[0maxis\u001b[0m\u001b[1;33m=\u001b[0m\u001b[1;33m-\u001b[0m\u001b[1;36m1\u001b[0m\u001b[1;33m)\u001b[0m\u001b[1;33m\u001b[0m\u001b[1;33m\u001b[0m\u001b[0m\n\u001b[0m\u001b[0;32m    585\u001b[0m \u001b[1;33m\u001b[0m\u001b[0m\n\u001b[0;32m    586\u001b[0m     \u001b[1;32mif\u001b[0m \u001b[0mfix\u001b[0m\u001b[1;33m:\u001b[0m\u001b[1;33m\u001b[0m\u001b[1;33m\u001b[0m\u001b[0m\n",
      "\u001b[1;32m~\\Anaconda3\\envs\\study\\lib\\site-packages\\resampy\\core.py\u001b[0m in \u001b[0;36mresample\u001b[1;34m(x, sr_orig, sr_new, axis, filter, **kwargs)\u001b[0m\n\u001b[0;32m    118\u001b[0m     \u001b[0mx_2d\u001b[0m \u001b[1;33m=\u001b[0m \u001b[0mx\u001b[0m\u001b[1;33m.\u001b[0m\u001b[0mswapaxes\u001b[0m\u001b[1;33m(\u001b[0m\u001b[1;36m0\u001b[0m\u001b[1;33m,\u001b[0m \u001b[0maxis\u001b[0m\u001b[1;33m)\u001b[0m\u001b[1;33m.\u001b[0m\u001b[0mreshape\u001b[0m\u001b[1;33m(\u001b[0m\u001b[1;33m(\u001b[0m\u001b[0mx\u001b[0m\u001b[1;33m.\u001b[0m\u001b[0mshape\u001b[0m\u001b[1;33m[\u001b[0m\u001b[0maxis\u001b[0m\u001b[1;33m]\u001b[0m\u001b[1;33m,\u001b[0m \u001b[1;33m-\u001b[0m\u001b[1;36m1\u001b[0m\u001b[1;33m)\u001b[0m\u001b[1;33m)\u001b[0m\u001b[1;33m\u001b[0m\u001b[1;33m\u001b[0m\u001b[0m\n\u001b[0;32m    119\u001b[0m     \u001b[0my_2d\u001b[0m \u001b[1;33m=\u001b[0m \u001b[0my\u001b[0m\u001b[1;33m.\u001b[0m\u001b[0mswapaxes\u001b[0m\u001b[1;33m(\u001b[0m\u001b[1;36m0\u001b[0m\u001b[1;33m,\u001b[0m \u001b[0maxis\u001b[0m\u001b[1;33m)\u001b[0m\u001b[1;33m.\u001b[0m\u001b[0mreshape\u001b[0m\u001b[1;33m(\u001b[0m\u001b[1;33m(\u001b[0m\u001b[0my\u001b[0m\u001b[1;33m.\u001b[0m\u001b[0mshape\u001b[0m\u001b[1;33m[\u001b[0m\u001b[0maxis\u001b[0m\u001b[1;33m]\u001b[0m\u001b[1;33m,\u001b[0m \u001b[1;33m-\u001b[0m\u001b[1;36m1\u001b[0m\u001b[1;33m)\u001b[0m\u001b[1;33m)\u001b[0m\u001b[1;33m\u001b[0m\u001b[1;33m\u001b[0m\u001b[0m\n\u001b[1;32m--> 120\u001b[1;33m     \u001b[0mresample_f\u001b[0m\u001b[1;33m(\u001b[0m\u001b[0mx_2d\u001b[0m\u001b[1;33m,\u001b[0m \u001b[0my_2d\u001b[0m\u001b[1;33m,\u001b[0m \u001b[0msample_ratio\u001b[0m\u001b[1;33m,\u001b[0m \u001b[0minterp_win\u001b[0m\u001b[1;33m,\u001b[0m \u001b[0minterp_delta\u001b[0m\u001b[1;33m,\u001b[0m \u001b[0mprecision\u001b[0m\u001b[1;33m)\u001b[0m\u001b[1;33m\u001b[0m\u001b[1;33m\u001b[0m\u001b[0m\n\u001b[0m\u001b[0;32m    121\u001b[0m \u001b[1;33m\u001b[0m\u001b[0m\n\u001b[0;32m    122\u001b[0m     \u001b[1;32mreturn\u001b[0m \u001b[0my\u001b[0m\u001b[1;33m\u001b[0m\u001b[1;33m\u001b[0m\u001b[0m\n",
      "\u001b[1;31mKeyboardInterrupt\u001b[0m: "
     ]
    }
   ],
   "source": [
    "parent_dir=\"C:\\\\Users\\\\tlsck\\\\IMPRESS\\\\Data\\\\UrbanSound8K\\\\audio\"\n",
    "tr_sub_dirs=['fold1','fold2']\n",
    "ts_sub_dirs=['fold3']\n",
    "tr_features,tr_labels=F.parse_audio_files(parent_dir,tr_sub_dirs)\n",
    "ts_features,ts_labels=F.parse_audio_files(parent_dir,ts_sub_dirs)\n",
    "\n",
    "tr_labels=F.one_hot_encode(tr_labels)\n",
    "ts_labels=F.one_hot_encode(ts_labels)\n"
   ]
  },
  {
   "cell_type": "code",
   "execution_count": null,
   "metadata": {},
   "outputs": [],
   "source": []
  }
 ],
 "metadata": {
  "kernelspec": {
   "display_name": "Python 3",
   "language": "python",
   "name": "python3"
  },
  "language_info": {
   "codemirror_mode": {
    "name": "ipython",
    "version": 3
   },
   "file_extension": ".py",
   "mimetype": "text/x-python",
   "name": "python",
   "nbconvert_exporter": "python",
   "pygments_lexer": "ipython3",
   "version": "3.7.5"
  }
 },
 "nbformat": 4,
 "nbformat_minor": 4
}
