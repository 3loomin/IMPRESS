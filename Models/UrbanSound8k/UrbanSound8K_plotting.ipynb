{
 "cells": [
  {
   "cell_type": "code",
   "execution_count": 1,
   "metadata": {},
   "outputs": [],
   "source": [
    "import UrbanSound_visual as U\n",
    "import matplotlib.pyplot as plt\n",
    "import librosa"
   ]
  },
  {
   "cell_type": "code",
   "execution_count": null,
   "metadata": {},
   "outputs": [
    {
     "name": "stdout",
     "output_type": "stream",
     "text": [
      "waves\n"
     ]
    }
   ],
   "source": [
    "path=\"C:\\\\Users\\\\tlsck\\\\IMPRESS\\\\Data\\\\UrbanSound8K\\\\audio\\\\fold1\\\\\"\n",
    "sound_file_paths = [path+\"57320-0-0-7.wav\",path+\"24074-1-0-3.wav\",path+\"15564-2-0-1.wav\",path+\"31323-3-0-1.wav\",path+\"46669-4-0-35.wav\",\n",
    "                   path+\"89948-5-0-0.wav\",path+\"40722-8-0-4.wav\",path+\"103074-7-3-2.wav\",path+\"106905-8-0-0.wav\",path+\"108041-9-0-4.wav\"]\n",
    "sound_names = [\"air conditioner\",\"car horn\",\"children playing\",\"dog bark\",\"drilling\",\"engine idling\",\n",
    "               \"gun shot\",\"jackhammer\",\"siren\",\"street music\"]\n",
    "\n",
    "raw_sounds = U.load_sound_files(sound_file_paths)\n",
    "\n",
    "print('waves')\n",
    "U.plot_waves(sound_names,raw_sounds)\n",
    "print('plot_specgram')"
   ]
  },
  {
   "cell_type": "code",
   "execution_count": null,
   "metadata": {},
   "outputs": [],
   "source": []
  }
 ],
 "metadata": {
  "kernelspec": {
   "display_name": "Python 3",
   "language": "python",
   "name": "python3"
  },
  "language_info": {
   "codemirror_mode": {
    "name": "ipython",
    "version": 3
   },
   "file_extension": ".py",
   "mimetype": "text/x-python",
   "name": "python",
   "nbconvert_exporter": "python",
   "pygments_lexer": "ipython3",
   "version": "3.7.5"
  }
 },
 "nbformat": 4,
 "nbformat_minor": 4
}
